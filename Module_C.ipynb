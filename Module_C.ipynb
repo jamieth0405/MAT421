{
  "nbformat": 4,
  "nbformat_minor": 0,
  "metadata": {
    "colab": {
      "provenance": [],
      "authorship_tag": "ABX9TyPVojDCnxq1Xedj0/MGu4hS",
      "include_colab_link": true
    },
    "kernelspec": {
      "name": "python3",
      "display_name": "Python 3"
    },
    "language_info": {
      "name": "python"
    }
  },
  "cells": [
    {
      "cell_type": "markdown",
      "metadata": {
        "id": "view-in-github",
        "colab_type": "text"
      },
      "source": [
        "<a href=\"https://colab.research.google.com/github/jamieth0405/MAT421/blob/main/Module_C.ipynb\" target=\"_parent\"><img src=\"https://colab.research.google.com/assets/colab-badge.svg\" alt=\"Open In Colab\"/></a>"
      ]
    },
    {
      "cell_type": "markdown",
      "source": [
        "Homework 4 - Jamie Dinh\n",
        "\n",
        "19.1 Root Finding Problem Statement\n",
        "\n",
        "- The root (or zero) of a function 𝒇(𝑥) is a value 𝑥ᵣ such that 𝒇(𝑥ᵣ) = 0.\n",
        "- Some functions, like quadratic equations, have easily identifiable roots by using the quadratic formula, while others, like 𝒇(𝑥) = cos(𝑥) - 𝑥, requires numerical methods to approximate solutions.\n",
        "- In Python, we can use the fsolve function from scipy.optimize library to help us numerically approximate the roots of a function.\n"
      ],
      "metadata": {
        "id": "hEXXCzHBpZ7y"
      }
    },
    {
      "cell_type": "markdown",
      "source": [
        "By providing an inital guess, fsolve iteratively refines the value to find where 𝒇(𝑥) is close to zero."
      ],
      "metadata": {
        "id": "Z5-NI-EpPtEg"
      }
    },
    {
      "cell_type": "code",
      "execution_count": 4,
      "metadata": {
        "id": "NzEcBAhkpR8o",
        "colab": {
          "base_uri": "https://localhost:8080/"
        },
        "outputId": "84d3587f-2783-442d-cc6e-a394b7ae38cc"
      },
      "outputs": [
        {
          "output_type": "stream",
          "name": "stdout",
          "text": [
            "r =  [0.73908513]\n",
            "solution =  [0.]\n"
          ]
        }
      ],
      "source": [
        "# Example solving f(x) = cos(x) - x near x = -2\n",
        "import numpy as np\n",
        "from scipy.optimize import fsolve\n",
        "\n",
        "# Define the function\n",
        "f = lambda x: np.cos(x) - x\n",
        "\n",
        "# Use fsolve to find the root near x = -2\n",
        "root = fsolve(f, -2)\n",
        "\n",
        "print(\"r = \", root)\n",
        "\n",
        "# Verify that the solution is indeed a root\n",
        "print(\"solution = \", f(root))"
      ]
    },
    {
      "cell_type": "markdown",
      "source": [
        "Some functions, like 𝒇(𝑥) = 1/𝑥\\^3, do not have a root. When fsolve is used on such functions, it may not converge to a solution and instead return an error message.\n"
      ],
      "metadata": {
        "id": "gXUIdkqfQhtA"
      }
    },
    {
      "cell_type": "code",
      "source": [
        "# Define the function with no root\n",
        "f = lambda x: 1/x\n",
        "\n",
        "# Try to find the root near x = -2\n",
        "root, info, ier, msg = fsolve(f, -2, full_output=True)\n",
        "\n",
        "print(\"r = \", root)\n",
        "print(\"solution = \", f(root))\n",
        "print(\"solver message:\", msg)"
      ],
      "metadata": {
        "colab": {
          "base_uri": "https://localhost:8080/"
        },
        "id": "aptiyJ8ERnzc",
        "outputId": "9b3953eb-402a-4090-d08b-55bc93e93046"
      },
      "execution_count": 7,
      "outputs": [
        {
          "output_type": "stream",
          "name": "stdout",
          "text": [
            "r =  [-3.52047359e+83]\n",
            "solution =  [-2.84052692e-84]\n",
            "solver message: The number of calls to function has reached maxfev = 400.\n"
          ]
        }
      ]
    },
    {
      "cell_type": "markdown",
      "source": [
        "The **full_output=True** parameter provides diagnostic information, showing why the solver failed (e.g., reaching the maximum number of function evaluations without finding a root)."
      ],
      "metadata": {
        "id": "U1J4yP3KRqZT"
      }
    },
    {
      "cell_type": "markdown",
      "source": [
        "19.2 Tolerance\n",
        "\n",
        "- In numerical analysis and engineering, error is the deviation from an expected or computed value. Tolerance is the acceptable level of error that determines when a solution is considered good enough. A program is said to have converged when its solution error is smaller than the set tolerance.\n",
        "- To compute roots numerically, we need a value 𝑥ᵣ such that 𝒇(𝑥ᵣ) is very close to zero. There are two common ways to measure error: function-based error and guess-based error.\n",
        "- For function-based error, e = ∣f(x)∣, a smaller function value means we are close to a root.\n",
        "- For guess-based error, e = ∣xᵢ+1 - xᵢ∣, the function measures the difference between successive guesses."
      ],
      "metadata": {
        "id": "Aoi9pW46UMhS"
      }
    },
    {
      "cell_type": "markdown",
      "source": [
        "19.3 Bisection Method\n",
        "\n",
        "- The Bisection Method is a numerical technique used to find roots of a function by iteratively applying the Intermediate Value Theorem (IVT).\n",
        "- IVT: if 𝒇(𝑥) is a continuous function on an interval [a,b] and the function values at the endpoints have opposite signs (sign(𝒇(a)) != sign(𝒇(b))), then there must be a point c in the interval where: 𝒇(c) = 0 and a < c < b.\n",
        "- Bisection Method Process:\n",
        " 1. Choose an interval [a, b] where f(a) > 0 and f(b) < 0 (or vice versa).\n",
        " 2. Find the midpoint:\n",
        "\n",
        "   $$\n",
        "   m = \\frac{a + b}{2}\n",
        "   $$\n",
        "\n",
        " 3. Evaluate f(m):\n",
        "   - If f(m) = 0, then m is the root.\n",
        "   - If f(m) > 0, the root lies in the left interval (a, m), so update b = m.\n",
        "   - If f(m) < 0, the root lies in the right interval (m, b), so update a = m.\n",
        " 4. Repeat the process until the error is within the desired tolerance.\n",
        "\n",
        "- The process continues until the absolute error:\n",
        "$$\n",
        "\\left| f\\left(\\frac{a + b}{2} \\right) \\right| < \\text{tol}\n",
        "$$ ensuring the approximation is within an acceptable error tolerance.\n"
      ],
      "metadata": {
        "id": "8ftdlajRYv8C"
      }
    },
    {
      "cell_type": "code",
      "source": [
        "import numpy as np\n",
        "\n",
        "def bisection(f, a, b, tol):\n",
        "  if np.sign(f(a)) == np.sign(f(b)):\n",
        "    raise Exception(\"The scalars a and b do not bound a root\")\n",
        "\n",
        "  m = (a + b) / 2\n",
        "  if np.abs(f(m)) < tol:\n",
        "    # stopping condition, report m as root\n",
        "    return m\n",
        "  elif np.sign(f(a)) == np.sign(f(m)):\n",
        "    # case where m is an improvement on a.\n",
        "    # Make recursive call with a = m\n",
        "    return bisection(f, m, b, tol)\n",
        "  elif np.sign(f(b)) == np.sign(f(m)):\n",
        "    # case where m is an improvement on b.\n",
        "    # Make recursive call with b = m\n",
        "    return bisection(f, a, m, tol)"
      ],
      "metadata": {
        "id": "GHI_seMPcqR7"
      },
      "execution_count": 8,
      "outputs": []
    },
    {
      "cell_type": "code",
      "source": [
        "# Use bisection function on f(x) = x^2 - 2\n",
        "f = lambda x: x**2 - 2\n",
        "r1 = bisection(f, 0, 2, 0.1)\n",
        "print(\"r1 =\", r1)\n",
        "r01 = bisection(f, 0, 2, 0.01)\n",
        "print(\"r01 =\", r01)\n",
        "print(\"f(r1) =\", f(r1))\n",
        "print(\"f(r01) =\", f(r01))"
      ],
      "metadata": {
        "colab": {
          "base_uri": "https://localhost:8080/"
        },
        "id": "zhFm5WcZelzn",
        "outputId": "0c7ed981-848f-40e7-c05d-048f2b3e2489"
      },
      "execution_count": 9,
      "outputs": [
        {
          "output_type": "stream",
          "name": "stdout",
          "text": [
            "r1 = 1.4375\n",
            "r01 = 1.4140625\n",
            "f(r1) = 0.06640625\n",
            "f(r01) = -0.00042724609375\n"
          ]
        }
      ]
    },
    {
      "cell_type": "markdown",
      "source": [
        "The output prints the root approximation and verifies that\n",
        "𝑓(root) ≈ 0."
      ],
      "metadata": {
        "id": "ljkLi1NxfyGW"
      }
    },
    {
      "cell_type": "markdown",
      "source": [
        "19.4 Newton-Raphson Method\n",
        "\n",
        "- The Newton-Raphson Method is an iterative numerical technique for finding the roots of a function. It is based on linear approximation using the function’s derivative.\n",
        "- Formula for Newton’s Iteration:\n",
        "$$ x_{n+1} = x_n - \\frac{f(x_n)}{f'(x_n)}$$\n",
        "- The Newton-Raphson Method of nding roots iterates Newton steps from 𝑥0 until the error is less than the tolerance."
      ],
      "metadata": {
        "id": "5KM8ZNPif83T"
      }
    },
    {
      "cell_type": "code",
      "source": [
        "# Find the value by using the approximation method to estimate sqrt(2)\n",
        "f = lambda x: x**2 - 2\n",
        "f_prime = lambda x: 2*x\n",
        "newton_raphson = 1.4 - (f(1.4))/(f_prime(1.4))\n",
        "print(\"newton_raphson =\", newton_raphson)\n",
        "print(\"sqrt(2) =\", np.sqrt(2))"
      ],
      "metadata": {
        "colab": {
          "base_uri": "https://localhost:8080/"
        },
        "id": "IN1Fy72LjZwc",
        "outputId": "060accf8-c0c3-4421-a59d-0d1c172f1db2"
      },
      "execution_count": 11,
      "outputs": [
        {
          "output_type": "stream",
          "name": "stdout",
          "text": [
            "newton_raphson = 1.4142857142857144\n",
            "sqrt(2) = 1.4142135623730951\n"
          ]
        }
      ]
    },
    {
      "cell_type": "code",
      "source": [
        "# Using python function for the estimate\n",
        "import numpy as np\n",
        "\n",
        "def newton_raphson(f, df, x0, tol):\n",
        "  if abs(f(x0)) < tol:\n",
        "    return x0\n",
        "  else:\n",
        "    return newton_raphson(f, df, x0 - f(x0)/df(x0), tol)\n",
        "\n",
        "estimate = newton_raphson(f, f_prime, 1.5, 1e-6)\n",
        "print(\"estimate =\", estimate)\n",
        "print(\"sqrt(2) =\", np.sqrt(2))"
      ],
      "metadata": {
        "colab": {
          "base_uri": "https://localhost:8080/"
        },
        "id": "J0vykGnviy6g",
        "outputId": "64814f34-5559-44f7-8c1d-e36949111390"
      },
      "execution_count": 12,
      "outputs": [
        {
          "output_type": "stream",
          "name": "stdout",
          "text": [
            "estimate = 1.4142135623746899\n",
            "sqrt(2) = 1.4142135623730951\n"
          ]
        }
      ]
    },
    {
      "cell_type": "markdown",
      "source": [
        "This demonstrates that the Newton-Raphson method efficiently approximates roots with a few iterations."
      ],
      "metadata": {
        "id": "9SVCKaVkkWm4"
      }
    }
  ]
}