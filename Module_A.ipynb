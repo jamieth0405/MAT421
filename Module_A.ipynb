{
  "nbformat": 4,
  "nbformat_minor": 0,
  "metadata": {
    "colab": {
      "provenance": [],
      "authorship_tag": "ABX9TyM92QY04OZPKMI/02B53o8S",
      "include_colab_link": true
    },
    "kernelspec": {
      "name": "python3",
      "display_name": "Python 3"
    },
    "language_info": {
      "name": "python"
    }
  },
  "cells": [
    {
      "cell_type": "markdown",
      "metadata": {
        "id": "view-in-github",
        "colab_type": "text"
      },
      "source": [
        "<a href=\"https://colab.research.google.com/github/jamieth0405/MAT421/blob/main/Module_A.ipynb\" target=\"_parent\"><img src=\"https://colab.research.google.com/assets/colab-badge.svg\" alt=\"Open In Colab\"/></a>"
      ]
    },
    {
      "cell_type": "markdown",
      "source": [
        "Homework 1 - Jamie Dinh\n",
        "\n",
        "9.1 Base-N and Binary\n",
        "\n",
        "- All numbers in the decimal system are generally represented by coefficients (a list of digits from 0-9) and powers of 10.\n",
        "\n",
        "- This is also called base10 since the decimal system is based on 10 digits (0-9). We also have base4, based on digits from 0 to 4, and many more other bases.\n",
        "\n",
        "- Computers use base2 or binary numbers, which means the available digits are 0 and 1, also known as a bit. This is efficient for computers because they can work with arithmetic operations for faster computing.\n",
        "\n",
        "- Through this, we can easily convert from binary to decimal and vice versa.\n"
      ],
      "metadata": {
        "id": "_jllWu0BFhdD"
      }
    },
    {
      "cell_type": "markdown",
      "source": [
        "Decimal Expansion with Base10:"
      ],
      "metadata": {
        "id": "fwac6xcXLeDJ"
      }
    },
    {
      "cell_type": "code",
      "execution_count": 1,
      "metadata": {
        "colab": {
          "base_uri": "https://localhost:8080/"
        },
        "id": "qDO8CZMeDa6T",
        "outputId": "4942014f-d16e-46c5-f953-a5e77a1c9f3e"
      },
      "outputs": [
        {
          "output_type": "execute_result",
          "data": {
            "text/plain": [
              "True"
            ]
          },
          "metadata": {},
          "execution_count": 1
        }
      ],
      "source": [
        "123.4 == 1 * 10**2 + 2 * 10**1 + 3 * 10**0 + 4 * 10**(-1)"
      ]
    },
    {
      "cell_type": "markdown",
      "source": [
        "Let's try with Base4:"
      ],
      "metadata": {
        "id": "8hUmYFvmMAPJ"
      }
    },
    {
      "cell_type": "code",
      "source": [
        "68 == 1 * 4**3 + 4 * 4**0"
      ],
      "metadata": {
        "colab": {
          "base_uri": "https://localhost:8080/"
        },
        "id": "S0oXuovhMUUi",
        "outputId": "84eb44d9-5ca7-4f3f-d2b4-886a50005acd"
      },
      "execution_count": 2,
      "outputs": [
        {
          "output_type": "execute_result",
          "data": {
            "text/plain": [
              "True"
            ]
          },
          "metadata": {},
          "execution_count": 2
        }
      ]
    },
    {
      "cell_type": "markdown",
      "source": [
        "Converting from Base10 to Base2 (Binary):"
      ],
      "metadata": {
        "id": "mPdNOg53NIuK"
      }
    },
    {
      "cell_type": "code",
      "source": [
        "# 89 (Base 10) = 1011001 (Binary)\n",
        "8 * 10**1 + 9 * 10**0 == 1 * 2**6 + 0 * 2**5 + 1 * 2**4 + 1 * 2**3 + 0 * 2**2 + 0 * 2**1 + 1 * 2**0"
      ],
      "metadata": {
        "colab": {
          "base_uri": "https://localhost:8080/"
        },
        "id": "dv2K-if8NHYw",
        "outputId": "3983c332-f0a8-4665-b238-fa0b84461055"
      },
      "execution_count": 3,
      "outputs": [
        {
          "output_type": "execute_result",
          "data": {
            "text/plain": [
              "True"
            ]
          },
          "metadata": {},
          "execution_count": 3
        }
      ]
    },
    {
      "cell_type": "markdown",
      "source": [
        "Binary numbers can work with arithmetic operations as decimal numbers:"
      ],
      "metadata": {
        "id": "Bba9_s67PVsE"
      }
    },
    {
      "cell_type": "code",
      "source": [
        "# 4 + 3 = 7\n",
        "# 100 + 011 = 111\n",
        "7 == 1 * 2**2 + 0 * 2**1 + 0 * 2**0 + 0 * 2**2 + 1 * 2**1 + 1 * 2**0"
      ],
      "metadata": {
        "colab": {
          "base_uri": "https://localhost:8080/"
        },
        "id": "emn7CqBZPeUI",
        "outputId": "a1550bd1-1bbb-496a-e75b-8e4305d5ad45"
      },
      "execution_count": 4,
      "outputs": [
        {
          "output_type": "execute_result",
          "data": {
            "text/plain": [
              "True"
            ]
          },
          "metadata": {},
          "execution_count": 4
        }
      ]
    },
    {
      "cell_type": "markdown",
      "source": [
        "9.2 Floating Point Numbers\n",
        "- We limit the range of values needed for the same number of bits by using floating-point numbers based on how much room a computer can store for each application.\n",
        "- Instead of using each bit as a coefficient with a power of 2, they are allocated as three different parts: sign (positive or negative), exponent (with power of 2), and fraction (coefficient of the exponent).\n",
        "- A float can be represented as: n = [((-1)^s) * (2^(e - 1023)) * (1 + f)]\n",
        "\n",
        "\n"
      ],
      "metadata": {
        "id": "qzdFQ2iwQstm"
      }
    },
    {
      "cell_type": "code",
      "source": [
        "# Decimal Conversion of IEEE754\n",
        "#  1 10000000010 1000000000000000000000000000000000000000000000000000 = -12.0\n",
        "-12.0 == (-1)**1 * (2**((1 * 2**10 + 1 * 2**1) - 1023)) * (1 + 2**(-1))"
      ],
      "metadata": {
        "colab": {
          "base_uri": "https://localhost:8080/"
        },
        "id": "-r1m1nh8VL-X",
        "outputId": "1fc53d6e-7592-403a-b790-eb0676bf9dea"
      },
      "execution_count": 5,
      "outputs": [
        {
          "output_type": "execute_result",
          "data": {
            "text/plain": [
              "True"
            ]
          },
          "metadata": {},
          "execution_count": 5
        }
      ]
    },
    {
      "cell_type": "markdown",
      "source": [
        "Float information can be found through *sys* package in Python:\n",
        "\n"
      ],
      "metadata": {
        "id": "vklNcttEVnAd"
      }
    },
    {
      "cell_type": "code",
      "source": [
        "import sys\n",
        "sys.float_info"
      ],
      "metadata": {
        "colab": {
          "base_uri": "https://localhost:8080/"
        },
        "id": "zrHOcPmUV1_k",
        "outputId": "b04d8ce2-bf57-458e-b145-32ad7a25377a"
      },
      "execution_count": 6,
      "outputs": [
        {
          "output_type": "execute_result",
          "data": {
            "text/plain": [
              "sys.float_info(max=1.7976931348623157e+308, max_exp=1024, max_10_exp=308, min=2.2250738585072014e-308, min_exp=-1021, min_10_exp=-307, dig=15, mant_dig=53, epsilon=2.220446049250313e-16, radix=2, rounds=1)"
            ]
          },
          "metadata": {},
          "execution_count": 6
        }
      ]
    },
    {
      "cell_type": "markdown",
      "source": [
        "The distance from one number to the next is called a *gap*. The gap grows as the number grows. We can check the gap by using the function *spacing* in numpy package of Python:\n",
        "\n"
      ],
      "metadata": {
        "id": "HmLyveHmV6R5"
      }
    },
    {
      "cell_type": "code",
      "source": [
        "import numpy as np\n",
        "gap = np.spacing(1e9)\n",
        "1e9 == 1e9 + gap / 3"
      ],
      "metadata": {
        "colab": {
          "base_uri": "https://localhost:8080/"
        },
        "id": "Y92_gBOgQuzC",
        "outputId": "3aa8eb48-7faa-40cd-8a26-0f6ebf7c74f3"
      },
      "execution_count": 7,
      "outputs": [
        {
          "output_type": "execute_result",
          "data": {
            "text/plain": [
              "True"
            ]
          },
          "metadata": {},
          "execution_count": 7
        }
      ]
    },
    {
      "cell_type": "markdown",
      "source": [
        "If the result of an operation is larger than the maximum bits, the result will return 'inf' in Python:\n"
      ],
      "metadata": {
        "id": "q1J9A4OSRVF0"
      }
    },
    {
      "cell_type": "code",
      "source": [
        "sys.float_info.max + sys.float_info.max"
      ],
      "metadata": {
        "colab": {
          "base_uri": "https://localhost:8080/"
        },
        "id": "63yU85uqR6Up",
        "outputId": "3d4a86c6-4a09-4753-b0d6-a2d014e00fff"
      },
      "execution_count": 8,
      "outputs": [
        {
          "output_type": "execute_result",
          "data": {
            "text/plain": [
              "inf"
            ]
          },
          "metadata": {},
          "execution_count": 8
        }
      ]
    },
    {
      "cell_type": "markdown",
      "source": [
        "Or the result will return 0.0 in Python if it is smaller than the limit:\n"
      ],
      "metadata": {
        "id": "wJT9gRMySAtf"
      }
    },
    {
      "cell_type": "code",
      "source": [
        "3**(-2048)"
      ],
      "metadata": {
        "colab": {
          "base_uri": "https://localhost:8080/"
        },
        "id": "CllSdRGHSTbK",
        "outputId": "3e491975-37a0-4593-ccc7-aa997a2cae29"
      },
      "execution_count": 9,
      "outputs": [
        {
          "output_type": "execute_result",
          "data": {
            "text/plain": [
              "0.0"
            ]
          },
          "metadata": {},
          "execution_count": 9
        }
      ]
    },
    {
      "cell_type": "markdown",
      "source": [
        "9.3 Round-off Errors\n",
        "- Round-off error is the representation error happening when the floating point numbers contain infinite decimals\n",
        "- Those that cannot be shown within the limit of bits, such as π and e, would result in a round-off error.\n",
        "- With floating-point arithmetic, the round-off error will also be taken into account.\n",
        "\n",
        "\n"
      ],
      "metadata": {
        "id": "TymP1Bj0SYIU"
      }
    },
    {
      "cell_type": "code",
      "source": [
        "123.4 - 115.45 == 7.95"
      ],
      "metadata": {
        "colab": {
          "base_uri": "https://localhost:8080/"
        },
        "id": "dLiK7ctHUOUm",
        "outputId": "f890a2cb-57a8-4cbc-8258-02b3ef6871fa"
      },
      "execution_count": 10,
      "outputs": [
        {
          "output_type": "execute_result",
          "data": {
            "text/plain": [
              "False"
            ]
          },
          "metadata": {},
          "execution_count": 10
        }
      ]
    },
    {
      "cell_type": "markdown",
      "source": [
        "With this error, we can use the round() function in Python with the number of decimals for comparability:\n"
      ],
      "metadata": {
        "id": "gw0VWg4cUiS_"
      }
    },
    {
      "cell_type": "code",
      "source": [
        "round(123.4 - 115.45, 5) == round(7.95, 5)"
      ],
      "metadata": {
        "colab": {
          "base_uri": "https://localhost:8080/"
        },
        "id": "Zm3LWT0oUn9w",
        "outputId": "3032189e-d333-4e90-dab4-967b30a1059e"
      },
      "execution_count": 11,
      "outputs": [
        {
          "output_type": "execute_result",
          "data": {
            "text/plain": [
              "True"
            ]
          },
          "metadata": {},
          "execution_count": 11
        }
      ]
    },
    {
      "cell_type": "markdown",
      "source": [
        "These errors can also accumulate over multiple calculations instead of one, which means we will never get the same result as we did in a single calculation over a series of them.\n"
      ],
      "metadata": {
        "id": "H4o_xfTfVFX0"
      }
    },
    {
      "cell_type": "code",
      "source": [
        "1 + 1/4 - 1/4"
      ],
      "metadata": {
        "colab": {
          "base_uri": "https://localhost:8080/"
        },
        "id": "NpH4pBdQV5Nk",
        "outputId": "0d3114ce-fdd0-4529-bfc0-97302f840564"
      },
      "execution_count": 12,
      "outputs": [
        {
          "output_type": "execute_result",
          "data": {
            "text/plain": [
              "1.0"
            ]
          },
          "metadata": {},
          "execution_count": 12
        }
      ]
    },
    {
      "cell_type": "code",
      "source": [
        "# Doing same calculation for 100 times:\n",
        "def add_an_subtract(values):\n",
        "  result = 1\n",
        "\n",
        "  for num in range(values):\n",
        "    result += 1/4\n",
        "\n",
        "  for num in range(values):\n",
        "    result -= 1/4\n",
        "\n",
        "  return result"
      ],
      "metadata": {
        "id": "NyeIcsv4WIiS"
      },
      "execution_count": 13,
      "outputs": []
    },
    {
      "cell_type": "code",
      "source": [
        "add_an_subtract(100)\n",
        "## cannot make it to more decimal places but it is different in the decimals"
      ],
      "metadata": {
        "colab": {
          "base_uri": "https://localhost:8080/"
        },
        "id": "QaHOBGDyW0gH",
        "outputId": "a1a3eeb0-07bb-4bf6-c77a-fbaee1a674b3"
      },
      "execution_count": 14,
      "outputs": [
        {
          "output_type": "execute_result",
          "data": {
            "text/plain": [
              "1.0"
            ]
          },
          "metadata": {},
          "execution_count": 14
        }
      ]
    },
    {
      "cell_type": "code",
      "source": [
        "add_an_subtract(1000)"
      ],
      "metadata": {
        "colab": {
          "base_uri": "https://localhost:8080/"
        },
        "id": "b9vhvU2QW3nL",
        "outputId": "25580cfa-d400-4acb-cdcc-10c82ecb197b"
      },
      "execution_count": 15,
      "outputs": [
        {
          "output_type": "execute_result",
          "data": {
            "text/plain": [
              "1.0"
            ]
          },
          "metadata": {},
          "execution_count": 15
        }
      ]
    },
    {
      "cell_type": "code",
      "source": [
        "add_an_subtract(10000)"
      ],
      "metadata": {
        "colab": {
          "base_uri": "https://localhost:8080/"
        },
        "id": "kd5aXUXIXUKs",
        "outputId": "290ff284-851c-4f97-8d18-22ee228429f9"
      },
      "execution_count": 16,
      "outputs": [
        {
          "output_type": "execute_result",
          "data": {
            "text/plain": [
              "1.0"
            ]
          },
          "metadata": {},
          "execution_count": 16
        }
      ]
    }
  ]
}