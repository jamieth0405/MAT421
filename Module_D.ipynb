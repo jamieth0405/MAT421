{
  "nbformat": 4,
  "nbformat_minor": 0,
  "metadata": {
    "colab": {
      "provenance": [],
      "authorship_tag": "ABX9TyPo+qLE3K3g9Utrk71KOGk/",
      "include_colab_link": true
    },
    "kernelspec": {
      "name": "python3",
      "display_name": "Python 3"
    },
    "language_info": {
      "name": "python"
    }
  },
  "cells": [
    {
      "cell_type": "markdown",
      "metadata": {
        "id": "view-in-github",
        "colab_type": "text"
      },
      "source": [
        "<a href=\"https://colab.research.google.com/github/jamieth0405/MAT421/blob/main/Module_D.ipynb\" target=\"_parent\"><img src=\"https://colab.research.google.com/assets/colab-badge.svg\" alt=\"Open In Colab\"/></a>"
      ]
    },
    {
      "cell_type": "markdown",
      "source": [
        "Homework 5 - Jamie Dinh\n",
        "\n",
        "1.1 Introduction\n",
        "- Linear algebra is a crucial mathematical field extensively applied across various disciplines, particularly in data science and machine learning, as it enhances the understanding of numerous algorithms within these fields.\n",
        "- With advanced technologies nowadays, we can easily compute and solve linear algebra using programming languages and visualize them with these codes."
      ],
      "metadata": {
        "id": "Vtbzr5mwWeRT"
      }
    },
    {
      "cell_type": "markdown",
      "source": [
        "Here's a basic introduction to handling matrices in Python using the NumPy library, which is widely used for numerical and matrix computations:"
      ],
      "metadata": {
        "id": "AtnR2EiaaYt6"
      }
    },
    {
      "cell_type": "code",
      "execution_count": 1,
      "metadata": {
        "colab": {
          "base_uri": "https://localhost:8080/"
        },
        "id": "2Nyo5jl0Wbvp",
        "outputId": "3f2fd5aa-2ec3-4a3f-8a1f-157816f8210d"
      },
      "outputs": [
        {
          "output_type": "stream",
          "name": "stdout",
          "text": [
            "Matrix A:\n",
            "[[1 2 3]\n",
            " [4 5 6]]\n"
          ]
        }
      ],
      "source": [
        "# Creating and naming a matrix\n",
        "import numpy as np\n",
        "\n",
        "# Create a 2x3 matrix and name it A\n",
        "A = np.array([[1, 2, 3], [4, 5, 6]])\n",
        "print(\"Matrix A:\")\n",
        "print(A)"
      ]
    },
    {
      "cell_type": "code",
      "source": [
        "# Finding dot and cross products of two matrices\n",
        "# Create another 3x2 matrix\n",
        "B = np.array([[1, 4], [2, 5], [3, 6]])\n",
        "C = np.array([[1, 7], [-6, 7], [4, 5]])\n",
        "\n",
        "# Calculating the dot product of A and B\n",
        "D = np.dot(A, B)\n",
        "print(\"Dot product of A and B:\")\n",
        "print(D)\n",
        "\n",
        "# Calculating the dot product of B and C\n",
        "E = np.cross(B, C)\n",
        "print(\"Cross product of B and C:\")\n",
        "print(E)"
      ],
      "metadata": {
        "colab": {
          "base_uri": "https://localhost:8080/"
        },
        "id": "9ImLaB05amRm",
        "outputId": "5eda7dea-6611-445a-da3f-da31b54dcac3"
      },
      "execution_count": 2,
      "outputs": [
        {
          "output_type": "stream",
          "name": "stdout",
          "text": [
            "Dot product of A and B:\n",
            "[[14 32]\n",
            " [32 77]]\n",
            "Cross product of B and C:\n",
            "[ 3 44 -9]\n"
          ]
        }
      ]
    },
    {
      "cell_type": "markdown",
      "source": [
        "1.2 Elements of Linear Algebra\n",
        "\n",
        "Linear Combinations and Linear Subspaces\n",
        "\n",
        "- Linear combinations are vectors obtained by adding scalar multiples of other vectors.\n",
        "- Linear subspaces are subsets of a vector space that are closed under addition and scalar multiplication.\n",
        "- An example of a linear subspace is the span of a set of vectors, which includes all possible linear combinations of those vectors.\n"
      ],
      "metadata": {
        "id": "VNOAunYIglCW"
      }
    },
    {
      "cell_type": "markdown",
      "source": [
        "Example: If 𝑉 is a vector space and 𝒖 and 𝒗 are vectors in 𝑉, the set of all vectors of the form a𝒖 + b𝒗 for scalars *a* and *b* is a linear subspace of 𝑉."
      ],
      "metadata": {
        "id": "cov0PfxumeRM"
      }
    },
    {
      "cell_type": "code",
      "source": [
        "import numpy as np\n",
        "\n",
        "# Define vectors u and v\n",
        "u = np.array([1, 2, 3])\n",
        "v = np.array([4, 5, 6])\n",
        "\n",
        "# Define scalars a and b\n",
        "a = 2\n",
        "b = 3\n",
        "\n",
        "# Calculate the linear combination of u and v\n",
        "linear = a * u + b * v\n",
        "print(\"The linear combination of vectors u and v is:\", linear)"
      ],
      "metadata": {
        "colab": {
          "base_uri": "https://localhost:8080/"
        },
        "id": "OfoQFyLSnDKa",
        "outputId": "6c659b68-6a3a-4d75-c887-3732901d61c2"
      },
      "execution_count": 3,
      "outputs": [
        {
          "output_type": "stream",
          "name": "stdout",
          "text": [
            "The linear combination of vectors u and v is: [14 19 24]\n"
          ]
        }
      ]
    },
    {
      "cell_type": "markdown",
      "source": [
        "Linear Independence and Dimension\n",
        "\n",
        "- A set of vectors is linearly independent if no vector in the set can be written as a linear combination of the others.\n",
        "- The dimension of a vector space is then defined as the maximum number of linearly independent vectors it can contain.\n",
        "- **Dimension Theorem**: Let 𝑈 be a linear subspace of 𝑉. Any\n",
        "basis of 𝑈 always has the same number of elements. All bases of 𝑈 have the same length, that is, the same number of elements. We call this number the dimension of 𝑈 and denote it dim(𝑈).\n"
      ],
      "metadata": {
        "id": "4r72yAaVoVl9"
      }
    },
    {
      "cell_type": "code",
      "source": [
        "# Checking linear independence for two vectors\n",
        "\n",
        "A = np.array([[2, -3, 1], [4, 0, -2], [1, 5, 3]])\n",
        "determinant_A = np.linalg.det(A)\n",
        "\n",
        "# Check if the determinant is nonzero (which means the vectors are linearly independent)\n",
        "if determinant_A != 0:\n",
        "    print(\"The vectors are linearly independent.\")\n",
        "    print(\"Determinant of the matrix A:\", determinant_A)\n",
        "else:\n",
        "    print(\"The vectors are linearly dependent.\")\n",
        "    print(\"Determinant of the matrix A:\", determinant_A)\n",
        "\n",
        "\n",
        "B = np.array([[1, 2, 3], [2, 4, 6], [3, 6, 9]])\n",
        "determinant_B = np.linalg.det(B)\n",
        "\n",
        "# Check if the determinant is nonzero (which means the vectors are linearly independent)\n",
        "if determinant_B != 0:\n",
        "    print(\"The vectors are linearly independent.\")\n",
        "    print(\"Determinant of the matrix B:\", determinant_B)\n",
        "else:\n",
        "    print(\"The vectors are linearly dependent.\")\n",
        "    print(\"Determinant of the matrix B:\", determinant_B)"
      ],
      "metadata": {
        "colab": {
          "base_uri": "https://localhost:8080/"
        },
        "id": "X5qZZCues0jB",
        "outputId": "ffb84146-7fce-4b4a-e2c9-d257b7997d47"
      },
      "execution_count": 4,
      "outputs": [
        {
          "output_type": "stream",
          "name": "stdout",
          "text": [
            "The vectors are linearly independent.\n",
            "Determinant of the matrix A: 82.00000000000001\n",
            "The vectors are linearly dependent.\n",
            "Determinant of the matrix B: 0.0\n"
          ]
        }
      ]
    },
    {
      "cell_type": "markdown",
      "source": [
        "Orthonormal Bases\n",
        "\n",
        "- Orthonormal bases are where the vectors are both orthogonal (mutually perpendicular) and normalized (each vector has unit length)."
      ],
      "metadata": {
        "id": "Omt_rZ2augO-"
      }
    },
    {
      "cell_type": "code",
      "source": [
        "import numpy as np\n",
        "from numpy import arccos, dot\n",
        "from numpy.linalg import norm\n",
        "\n",
        "# Define two vectors\n",
        "v = np.array([3, -1, 2])\n",
        "w = np.array([2, 6, -1])\n",
        "\n",
        "# Calculate the angle between the two vectors\n",
        "theta = arccos(dot(v, w.T) / (norm(v) * norm(w)))\n",
        "\n",
        "# Print the calculated angle in radians\n",
        "print(\"Angle between vectors v and w in radians:\", theta)\n",
        "\n",
        "# Check if the vectors are orthogonal\n",
        "if np.isclose(theta, np.pi/2):\n",
        "    print(\"The vectors are orthogonal.\")\n",
        "else:\n",
        "    print(\"The vectors are not orthogonal.\")"
      ],
      "metadata": {
        "colab": {
          "base_uri": "https://localhost:8080/"
        },
        "id": "2wZK1TgNujJ0",
        "outputId": "c9ed2fb6-df4d-4dd5-b291-b44051c30d91"
      },
      "execution_count": 5,
      "outputs": [
        {
          "output_type": "stream",
          "name": "stdout",
          "text": [
            "Angle between vectors v and w in radians: 1.6543719743690295\n",
            "The vectors are not orthogonal.\n"
          ]
        }
      ]
    },
    {
      "cell_type": "markdown",
      "source": [
        "Best Approximation Theorem\n",
        "\n",
        "- The best approximation theorem allows finding the closest vector in a subspace to a given vector outside the subspace, minimizing the Euclidean distance between them.\n",
        "- This is particularly useful in optimization and numerical analysis.\n",
        "\n",
        "Example: For a vector 𝐯 not in a subspace 𝑈, the best approximation theorem helps find a vector 𝐮 in 𝑈 such that the distance ||𝐯 - 𝐮|| is minimized, often used in regression analysis."
      ],
      "metadata": {
        "id": "sE_sRoKB0npw"
      }
    },
    {
      "cell_type": "markdown",
      "source": [
        "Eigenvalues and Eigenvectors\n",
        "\n",
        "- Eigenvalues and eigenvectors are properties of a square matrix.\n",
        "- An eigenvector is a nonzero vector that changes by only a scalar factor when that linear transformation is applied to it.\n",
        "- The scalar factor is called an eigenvalue.\n",
        "- This relationship can be described by the equation:\n",
        "$$ A\\mathbf{v} = \\lambda\\mathbf{v} $$\n",
        "where 𝐴 is a square matrix, 𝜆 is the eigenvalue, and 𝐯 is the eigenvector associated with 𝜆."
      ],
      "metadata": {
        "id": "0D5GUDOh4E5l"
      }
    },
    {
      "cell_type": "code",
      "source": [
        "# Define a 3x3 matrix\n",
        "A = np.array([[5, -2, 2],\n",
        "              [-1, 4, -2],\n",
        "              [1, -2, 3]])\n",
        "\n",
        "# Calculate eigenvalues and eigenvectors\n",
        "eigenvalues, eigenvectors = np.linalg.eig(A)\n",
        "\n",
        "# Display the results\n",
        "print(\"Eigenvalues of the matrix A:\", eigenvalues)\n",
        "print(\"Eigenvectors of the matrix A:\\n\", eigenvectors)"
      ],
      "metadata": {
        "colab": {
          "base_uri": "https://localhost:8080/"
        },
        "id": "3FtR9QIQ49wK",
        "outputId": "b8b287a4-6754-4fd1-e478-7de7c8d23414"
      },
      "execution_count": 6,
      "outputs": [
        {
          "output_type": "stream",
          "name": "stdout",
          "text": [
            "Eigenvalues of the matrix A: [7.28994508 3.29428036 1.41577456]\n",
            "Eigenvectors of the matrix A:\n",
            " [[ 0.77606421 -0.84760184 -0.12997133]\n",
            " [-0.48265314 -0.46216359  0.57490687]\n",
            " [ 0.40591906  0.26072196  0.80783015]]\n"
          ]
        }
      ]
    },
    {
      "cell_type": "markdown",
      "source": [
        "1.3 Linear Regression\n",
        "\n",
        "QR Decomposition\n",
        "\n",
        "- QR decomposition is a method used to decompose the matrix 𝑋 (which contains the data points for independent variables) into a product of a matrix 𝑄 (an orthogonal matrix) and 𝑅 (an upper triangular matrix).\n",
        "- This decomposition facilitates solving the linear least squares problem for the regression coefficients.\n",
        "- The linear regression model can be expressed as:\n",
        "$$ y = X\\beta + \\epsilon $$\n",
        "where 𝑦 is the dependent variable, 𝑋 is the matrix of independent variables, 𝛽 is the vector of coefficients, and 𝜀 is the error term.\n",
        "\n"
      ],
      "metadata": {
        "id": "9zeAqtB56X0F"
      }
    },
    {
      "cell_type": "markdown",
      "source": [
        "Here's a Python example implementing linear regression using NumPy to handle QR decomposition manually:"
      ],
      "metadata": {
        "id": "2JbgyBhL-4pr"
      }
    },
    {
      "cell_type": "code",
      "source": [
        "# Define matrix X and vector y\n",
        "X = np.array([[1, 1], [1, 2], [1, 3], [1, 4]])\n",
        "y = np.array([6, 5, 7, 10])\n",
        "\n",
        "# Perform QR decomposition\n",
        "Q, R = np.linalg.qr(X)\n",
        "\n",
        "# Calculate coefficients using the formula R*beta = Q.T * y\n",
        "beta = np.linalg.solve(R, np.dot(Q.T, y))\n",
        "print(\"Estimated coefficients:\", beta)"
      ],
      "metadata": {
        "colab": {
          "base_uri": "https://localhost:8080/"
        },
        "id": "qfPWiQ9T-K1R",
        "outputId": "afd78696-449e-40c2-fac0-b4cfc5db7f84"
      },
      "execution_count": 7,
      "outputs": [
        {
          "output_type": "stream",
          "name": "stdout",
          "text": [
            "Estimated coefficients: [3.5 1.4]\n"
          ]
        }
      ]
    },
    {
      "cell_type": "markdown",
      "source": [
        "Least Squares Regression\n",
        "\n",
        "- The least squares regression aims to minimize the sum of the squares of the differences between the observed dependent variable in the dataset and those predicted by the linear model.\n",
        "- It is typically formulated as: $$ \\min_{\\beta} \\|y - X\\beta\\|^2 $$"
      ],
      "metadata": {
        "id": "JNuiR_l--9CE"
      }
    },
    {
      "cell_type": "code",
      "source": [
        "import numpy as np\n",
        "import matplotlib.pyplot as plt\n",
        "\n",
        "# Generate data: x and y with a linear relationship with noise\n",
        "np.random.seed(0)  # for reproducibility\n",
        "x = np.linspace(0, 10, 100)\n",
        "noise = np.random.normal(0, 1, x.size)\n",
        "y = 2 + 1.5 * x + noise  # y = intercept + slope * x + noise\n",
        "\n",
        "# Assemble the design matrix A with two columns: one for the intercept (all ones) and one for the slope (x values)\n",
        "A = np.vstack([np.ones(x.size), x]).T\n",
        "\n",
        "# Turn y into a column vector\n",
        "y = y[:, np.newaxis]\n",
        "\n",
        "# Use the normal equation to find the best fitting parameters: (A^T * A)^-1 * (A^T * y)\n",
        "params = np.linalg.inv(A.T @ A) @ (A.T @ y)\n",
        "\n",
        "# Extract the parameters\n",
        "intercept, slope = params.flatten()\n",
        "\n",
        "# Plotting the results\n",
        "plt.figure(figsize = (10, 6))\n",
        "plt.scatter(x, y, color = 'blue', label = 'Data points')\n",
        "plt.plot(x, intercept + slope * x, 'r', label = f'Fitted line: y = {intercept:.2f} + {slope:.2f}x')\n",
        "plt.title('Least Squares Regression')\n",
        "plt.xlabel('x')\n",
        "plt.ylabel('y')\n",
        "plt.legend()\n",
        "plt.grid(True)\n",
        "plt.show()"
      ],
      "metadata": {
        "colab": {
          "base_uri": "https://localhost:8080/",
          "height": 564
        },
        "id": "Dz4-HF-__8XI",
        "outputId": "13db2e54-d948-45e0-d4dc-efa3b5ab47d8"
      },
      "execution_count": 8,
      "outputs": [
        {
          "output_type": "display_data",
          "data": {
            "text/plain": [
              "<Figure size 1000x600 with 1 Axes>"
            ],
            "image/png": "[encoded data removed]"
          },
          "metadata": {}
        }
      ]
    },
    {
      "cell_type": "markdown",
      "source": [
        "The plot shows both the scatter of the original data and the best-fit line calculated by the least squares method. The intercept and slope are extracted from the parameter vector and displayed in the plot legend for clarity. The method does a very good job of fitting the trends of the data points."
      ],
      "metadata": {
        "id": "6XjAuofjBBGd"
      }
    }
  ]
}