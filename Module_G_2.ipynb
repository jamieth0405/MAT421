{
  "nbformat": 4,
  "nbformat_minor": 0,
  "metadata": {
    "colab": {
      "provenance": [],
      "authorship_tag": "ABX9TyOiSAmhPKpMGSX/tWO3ilP9",
      "include_colab_link": true
    },
    "kernelspec": {
      "name": "python3",
      "display_name": "Python 3"
    },
    "language_info": {
      "name": "python"
    }
  },
  "cells": [
    {
      "cell_type": "markdown",
      "metadata": {
        "id": "view-in-github",
        "colab_type": "text"
      },
      "source": [
        "<a href=\"https://colab.research.google.com/github/jamieth0405/MAT421/blob/main/Module_G_2.ipynb\" target=\"_parent\"><img src=\"https://colab.research.google.com/assets/colab-badge.svg\" alt=\"Open In Colab\"/></a>"
      ]
    },
    {
      "cell_type": "markdown",
      "source": [
        "Homework 9 - Jamie Dinh\n",
        "\n",
        "21.4 Simpson's Rule\n",
        "\n",
        "- Simpson’s Rule approximates the integral of a function by fitting a quadratic (second-degree) polynomial over **two subintervals** at a time.\n",
        "\n",
        "- It uses three points at a time: the start, midpoint, and end of two consecutive subintervals, and integrates that parabola exactly.\n",
        "\n",
        "- Let $f(x)$ be defined on the interval $[a, b]$, which is divided into $n$ even subintervals (i.e., $n+1$ grid points). The composite Simpson's Rule is:\n",
        "$$\n",
        "\\int_a^b f(x)\\, dx \\approx \\frac{h}{3} \\left[ f(x_0) + 4 \\sum_{\\substack{i=1 \\\\ \\text{odd}}}^{n-1} f(x_i) + 2 \\sum_{\\substack{i=2 \\\\ \\text{even}}}^{n-2} f(x_i) + f(x_n) \\right]\n",
        "$$\n",
        "Where:\n",
        " - $h = \\frac{b - a}{n}$ is the spacing between grid points.\n",
        " - The first and last points are weighted by 1.\n",
        " - Odd-indexed interior points are weighted by 4.\n",
        " - Even-indexed interior points (except endpoints) are weighted by 2.\n",
        "\n",
        "- Simpson’s Rule is:\n",
        "  - $O(h^5)$ accurate per subinterval\n",
        "  - $O(h^4)$ accurate overall\n",
        "- Requires an **even number of subintervals** (odd number of points)."
      ],
      "metadata": {
        "id": "6kKxnJKHNHVq"
      }
    },
    {
      "cell_type": "code",
      "execution_count": 2,
      "metadata": {
        "colab": {
          "base_uri": "https://localhost:8080/"
        },
        "id": "WJTFu1yIM7x6",
        "outputId": "92e63a38-f937-426f-ff7d-a63bd1c7b636"
      },
      "outputs": [
        {
          "output_type": "stream",
          "name": "stdout",
          "text": [
            "Simpson's Rule Approximation: 2.000028343551469\n",
            "Error: -2.834355146896783e-05\n"
          ]
        }
      ],
      "source": [
        "import numpy as np\n",
        "\n",
        "a = 0\n",
        "b = np.pi\n",
        "n = 15  # Must be odd\n",
        "h = (b - a) / (n - 1)\n",
        "x = np.linspace(a, b, n)\n",
        "f = np.sin(x)\n",
        "\n",
        "# Simpson's Rule\n",
        "I_simp = (h / 3) * (f[0] + 2 * sum(f[2:n-1:2]) + 4 * sum(f[1:n-1:2]) + f[n-1])\n",
        "err_simp = 2 - I_simp\n",
        "\n",
        "print(\"Simpson's Rule Approximation:\", I_simp)\n",
        "print(\"Error:\", err_simp)"
      ]
    }
  ]
}