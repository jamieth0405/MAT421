{
  "nbformat": 4,
  "nbformat_minor": 0,
  "metadata": {
    "colab": {
      "provenance": [],
      "authorship_tag": "ABX9TyN5oCjamz5XFnbr42NSVA+K",
      "include_colab_link": true
    },
    "kernelspec": {
      "name": "python3",
      "display_name": "Python 3"
    },
    "language_info": {
      "name": "python"
    }
  },
  "cells": [
    {
      "cell_type": "markdown",
      "metadata": {
        "id": "view-in-github",
        "colab_type": "text"
      },
      "source": [
        "<a href=\"https://colab.research.google.com/github/jamieth0405/MAT421/blob/main/Module_G.ipynb\" target=\"_parent\"><img src=\"https://colab.research.google.com/assets/colab-badge.svg\" alt=\"Open In Colab\"/></a>"
      ]
    },
    {
      "cell_type": "markdown",
      "source": [
        "Homework 8 - Jamie Dinh\n",
        "\n",
        "21.1 Numerical Integration Problem Statement\n",
        "\n",
        "- Given a function $f(x)$, we want to approximate the integral of a function $f(x)$ over an interval $[a,b]$.\n",
        "- The interval is divided into a numerical grid consisting of $n+1$ evenly spaced points, with a step size $h = \\frac{b-a}{n}$.\n",
        "- Each point in the grid is denoted as $x_i$, where $x_0 = a$ and $x_n = b$.\n",
        "- The small segments between adjacent grid points, $[x_i, x_{i+1}]$, are called **subintervals**.\n",
        "\n",
        "\n",
        "21.2 Riemann’s Integral\n",
        "\n",
        "- One of the simplest numerical integration methods, it approximates the integral of a function by summing the areas of rectangles over a given interval.\n",
        "\n",
        "Rectangle Approximation:\n",
        "- The interval $[a,b]$ is divided into subintervals of width $h$.\n",
        "- The height of each rectangle is determined using function values at specific points.\n",
        "\n",
        "Left & Right Riemann Sums:\n",
        "- The Left Riemann Sum takes the function value at the left endpoint: $$\\int_a^b f(x)dx \\approx h \\sum_{i=0}^{n-1} f(x_i)$$\n",
        "- The Right Riemann Sum takes the function value at the right endpoint: $$\\int_a^b f(x)dx \\approx h \\sum_{i=1}^{n} f(x_i)$$\n",
        "\n",
        "Midpoint Rule:\n",
        "- Instead of using the left or right endpoint, the midpoint of each subinterval is used: $$\\int_a^b f(x)dx \\approx h \\sum_{i=0}^{n-1} f(y_i)$$ where $y_i$ is the midpoint of each subinterval: $$y_i = \\frac{x_i + x_{i+1}}{2}$$\n",
        "\n",
        "\n"
      ],
      "metadata": {
        "id": "Bg3hrVPmv4Vc"
      }
    },
    {
      "cell_type": "markdown",
      "source": [
        "Below is a Python implementation for approximating $ \\int_0^{\\pi} \\sin(x)dx $ using the Left Riemann Sum, Right Riemann Sum, and Midpoint Rule:"
      ],
      "metadata": {
        "id": "8xLO5DRHaxgR"
      }
    },
    {
      "cell_type": "code",
      "execution_count": 1,
      "metadata": {
        "id": "-0b2Klc7vbt8",
        "colab": {
          "base_uri": "https://localhost:8080/"
        },
        "outputId": "6c3eecb3-e274-41b9-9a27-8df844ee8d3c"
      },
      "outputs": [
        {
          "output_type": "stream",
          "name": "stdout",
          "text": [
            "Left Riemann Sum: 1.9835235375094546 Error: 0.01647646249054535\n",
            "Right Riemann Sum: 1.9835235375094546 Error: 0.01647646249054535\n",
            "Midpoint Rule: 2.0082484079079745 Error: -0.008248407907974542\n"
          ]
        }
      ],
      "source": [
        "import numpy as np\n",
        "\n",
        "a = 0  # Lower limit\n",
        "b = np.pi  # Upper limit\n",
        "n = 11  # Number of grid points\n",
        "h = (b - a) / (n - 1)  # Step size\n",
        "x = np.linspace(a, b, n)  # Grid points\n",
        "f = np.sin(x)  # Function values\n",
        "\n",
        "# Left Riemann Sum\n",
        "I_riemannL = h * sum(f[:n-1])\n",
        "err_riemannL = 2 - I_riemannL\n",
        "\n",
        "# Right Riemann Sum\n",
        "I_riemannR = h * sum(f[1:])\n",
        "err_riemannR = 2 - I_riemannR\n",
        "\n",
        "# Midpoint Rule\n",
        "I_mid = h * sum(np.sin((x[:n-1] + x[1:]) / 2))\n",
        "err_mid = 2 - I_mid\n",
        "\n",
        "# Print results\n",
        "print(\"Left Riemann Sum:\", I_riemannL, \"Error:\", err_riemannL)\n",
        "print(\"Right Riemann Sum:\", I_riemannR, \"Error:\", err_riemannR)\n",
        "print(\"Midpoint Rule:\", I_mid, \"Error:\", err_mid)"
      ]
    },
    {
      "cell_type": "markdown",
      "source": [
        "21.3 Trapezoid Rule\n",
        "\n",
        "- Instead of using rectangles (as in the Riemann sum), it approximates the integral by summing the areas of trapezoids under the function curve.\n",
        "\n",
        "Trapezoid Approximation:\n",
        "- The function is evaluated at two consecutive points in each subinterval.\n",
        "- Each subinterval is approximated as a trapezoid with a known area formula.\n",
        "- The integral is approximated as: $$\\int_a^b f(x)dx \\approx h \\sum_{i=0}^{n-1} \\frac{f(x_i) + f(x_{i+1})}{2}$$\n",
        "- This can be simplified computationally as: $$\\int_a^b f(x)dx \\approx \\frac{h}{2} \\left[ f(x_0) + 2 \\sum_{i=1}^{n-1} f(x_i) + f(x_n) \\right]$$\n",
        "\n",
        "Error Analysis:\n",
        "- The **Trapezoid Rule** has an error of $O(h^2)$, meaning it provides **better accuracy** than the **Riemann sum**.\n",
        "- The accuracy improves significantly as $h$ (the step size) decreases.\n",
        "\n"
      ],
      "metadata": {
        "id": "Rg7u34H6YOFz"
      }
    },
    {
      "cell_type": "markdown",
      "source": [
        "Below is a Python script to approximate $\\int_0^{\\pi} \\sin(x)dx$ using the Trapezoid Rule with 11 grid points:"
      ],
      "metadata": {
        "id": "fMpPgjNkahbo"
      }
    },
    {
      "cell_type": "code",
      "source": [
        "import numpy as np\n",
        "\n",
        "# Define the interval\n",
        "a = 0\n",
        "b = np.pi\n",
        "n = 11  # Number of grid points\n",
        "h = (b - a) / (n - 1)  # Step size\n",
        "x = np.linspace(a, b, n)  # Generate grid points\n",
        "f = np.sin(x)  # Function values\n",
        "\n",
        "# Compute the Trapezoidal Integral\n",
        "I_trap = (h/2) * (f[0] + 2 * sum(f[1:n-1]) + f[n-1])\n",
        "\n",
        "# Compute error (exact integral = 2)\n",
        "err_trap = 2 - I_trap\n",
        "\n",
        "# Print results\n",
        "print(\"Trapezoid Rule Approximation:\", I_trap)\n",
        "print(\"Error:\", err_trap)"
      ],
      "metadata": {
        "colab": {
          "base_uri": "https://localhost:8080/"
        },
        "id": "57UwIIS0amlT",
        "outputId": "6738f1fc-d9a3-4dde-a86e-1575fc34bfad"
      },
      "execution_count": 2,
      "outputs": [
        {
          "output_type": "stream",
          "name": "stdout",
          "text": [
            "Trapezoid Rule Approximation: 1.9835235375094546\n",
            "Error: 0.01647646249054535\n"
          ]
        }
      ]
    }
  ]
}